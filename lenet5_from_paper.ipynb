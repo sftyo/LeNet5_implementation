{
 "cells": [
  {
   "cell_type": "code",
   "execution_count": 1,
   "id": "a15ebe27",
   "metadata": {},
   "outputs": [],
   "source": [
    "# Load in relevant libraries, and alias where appropriate\n",
    "import torch\n",
    "import torch.nn as nn\n",
    "import torchvision\n",
    "import torchvision.transforms as transforms"
   ]
  },
  {
   "cell_type": "code",
   "execution_count": 2,
   "id": "cbeed48f",
   "metadata": {},
   "outputs": [],
   "source": [
    "batch_size = 32\n",
    "\n",
    "#Loading the dataset and preprocessing\n",
    "train_dataset = torchvision.datasets.MNIST(root = './data',\n",
    "                                           train = True,\n",
    "                                           transform = transforms.Compose([\n",
    "                                                  transforms.Resize((32,32)),\n",
    "                                                  transforms.ToTensor(),\n",
    "                                                  transforms.Normalize(mean = (0.1307,), std = (0.3081,))]),\n",
    "                                           download = True)\n",
    "\n",
    "\n",
    "test_dataset = torchvision.datasets.MNIST(root = './data',\n",
    "                                          train = False,\n",
    "                                          transform = transforms.Compose([\n",
    "                                                  transforms.Resize((32,32)),\n",
    "                                                  transforms.ToTensor(),\n",
    "                                                  transforms.Normalize(mean = (0.1325,), std = (0.3105,))]),\n",
    "                                          download=True)\n",
    "\n",
    "\n",
    "train_loader = torch.utils.data.DataLoader(dataset = train_dataset,\n",
    "                                           batch_size = batch_size,\n",
    "                                           shuffle = True)\n",
    "\n",
    "\n",
    "test_loader = torch.utils.data.DataLoader(dataset = test_dataset,\n",
    "                                           batch_size = batch_size,\n",
    "                                           shuffle = True)"
   ]
  },
  {
   "cell_type": "code",
   "execution_count": 7,
   "id": "e29e5de4",
   "metadata": {},
   "outputs": [],
   "source": [
    "# Consist of 7 layers\n",
    "# NCHW -> NM (M = C * H * W)\n",
    "class LeNet5(nn.Module):\n",
    "    def __init__(self):\n",
    "        super(LeNet5, self).__init__()\n",
    "        self.relu = nn.ReLU()\n",
    "        self.pool = nn.AvgPool2d(kernel_size=2, stride=2)\n",
    "        self.c1 = nn.Conv2d(in_channels=1, out_channels=6, kernel_size=5, stride=1,padding=0)\n",
    "        self.c2 = nn.Conv2d(in_channels=6, out_channels=16, kernel_size=5, stride=1,padding=0)  # NCHW\n",
    "        self.linear1 = nn.Linear(16 * 5 * 5, 120) # NM (M = C * H * W)\n",
    "        self.linear2 = nn.Linear(120, 84)\n",
    "        self.linear3 = nn.Linear(84,10)\n",
    "    def forward(self, x):\n",
    "        x = self.pool(self.relu(self.c1(x)))\n",
    "        x = self.pool(self.relu(self.c2(x)))\n",
    "        x = torch.flatten(x, 1) # Flatten the vectors so it can be inputed into the first linear layer (NM)\n",
    "        x = self.relu(self.linear1(x))\n",
    "        x = self.relu(self.linear2(x))\n",
    "        x = self.linear3(x)\n",
    "        return x"
   ]
  },
  {
   "cell_type": "code",
   "execution_count": 8,
   "id": "d1dad78e",
   "metadata": {},
   "outputs": [
    {
     "name": "stdout",
     "output_type": "stream",
     "text": [
      "torch.Size([64, 10])\n"
     ]
    }
   ],
   "source": [
    "x = torch.randn(64, 1, 32, 32)\n",
    "model = LeNet5()\n",
    "print(model(x).shape)"
   ]
  },
  {
   "cell_type": "code",
   "execution_count": 9,
   "id": "0578bd76",
   "metadata": {},
   "outputs": [],
   "source": [
    "model = LeNet5()\n",
    "\n",
    "#Setting the loss function\n",
    "cost = nn.CrossEntropyLoss()\n",
    "\n",
    "#Setting the optimizer with the model parameters and learning rate\n",
    "optimizer = torch.optim.Adam(model.parameters(), lr=3e-3)\n",
    "\n",
    "#this is defined to print how many steps are remaining when training\n",
    "total_step = len(train_loader)"
   ]
  },
  {
   "cell_type": "code",
   "execution_count": 10,
   "id": "9d5777fa",
   "metadata": {},
   "outputs": [
    {
     "name": "stdout",
     "output_type": "stream",
     "text": [
      "Epoch [1/5], Step [400/1875], Loss: 0.1207\n",
      "Epoch [1/5], Step [800/1875], Loss: 0.1158\n",
      "Epoch [1/5], Step [1200/1875], Loss: 0.2940\n",
      "Epoch [1/5], Step [1600/1875], Loss: 0.1032\n",
      "Epoch [2/5], Step [400/1875], Loss: 0.0979\n",
      "Epoch [2/5], Step [800/1875], Loss: 0.1512\n",
      "Epoch [2/5], Step [1200/1875], Loss: 0.1885\n",
      "Epoch [2/5], Step [1600/1875], Loss: 0.1077\n",
      "Epoch [3/5], Step [400/1875], Loss: 0.0243\n",
      "Epoch [3/5], Step [800/1875], Loss: 0.0182\n",
      "Epoch [3/5], Step [1200/1875], Loss: 0.1920\n",
      "Epoch [3/5], Step [1600/1875], Loss: 0.0915\n",
      "Epoch [4/5], Step [400/1875], Loss: 0.0117\n",
      "Epoch [4/5], Step [800/1875], Loss: 0.0012\n",
      "Epoch [4/5], Step [1200/1875], Loss: 0.0109\n",
      "Epoch [4/5], Step [1600/1875], Loss: 0.0037\n",
      "Epoch [5/5], Step [400/1875], Loss: 0.0004\n",
      "Epoch [5/5], Step [800/1875], Loss: 0.0014\n",
      "Epoch [5/5], Step [1200/1875], Loss: 0.0054\n",
      "Epoch [5/5], Step [1600/1875], Loss: 0.0016\n"
     ]
    }
   ],
   "source": [
    "total_step = len(train_loader)\n",
    "num_epochs=5\n",
    "for epoch in range(num_epochs):\n",
    "    for i, (images, labels) in enumerate(train_loader):  \n",
    "        images = images\n",
    "        labels = labels\n",
    "        \n",
    "        #Forward pass\n",
    "        outputs = model(images)\n",
    "        loss = cost(outputs, labels)\n",
    "        \t\n",
    "        # Backward and optimize\n",
    "        optimizer.zero_grad()\n",
    "        loss.backward()\n",
    "        optimizer.step()\n",
    "        \t\t\n",
    "        if (i+1) % 400 == 0:\n",
    "            print ('Epoch [{}/{}], Step [{}/{}], Loss: {:.4f}' \n",
    "        \t\t           .format(epoch+1, num_epochs, i+1, total_step, loss.item()))"
   ]
  },
  {
   "cell_type": "code",
   "execution_count": 11,
   "id": "7f376820",
   "metadata": {},
   "outputs": [
    {
     "name": "stdout",
     "output_type": "stream",
     "text": [
      "Accuracy of the network on the 10000 test images: 98.86 %\n"
     ]
    }
   ],
   "source": [
    "with torch.no_grad():\n",
    "    correct = 0\n",
    "    total = 0\n",
    "    for images, labels in test_loader:\n",
    "        outputs = model(images)\n",
    "        _, predicted = torch.max(outputs.data, 1)\n",
    "        total += labels.size(0)\n",
    "        correct += (predicted == labels).sum().item()\n",
    "\n",
    "    print('Accuracy of the network on the 10000 test images: {} %'.format(100 * correct / total))\n"
   ]
  }
 ],
 "metadata": {
  "kernelspec": {
   "display_name": "Python 3 (ipykernel)",
   "language": "python",
   "name": "python3"
  },
  "language_info": {
   "codemirror_mode": {
    "name": "ipython",
    "version": 3
   },
   "file_extension": ".py",
   "mimetype": "text/x-python",
   "name": "python",
   "nbconvert_exporter": "python",
   "pygments_lexer": "ipython3",
   "version": "3.8.5"
  }
 },
 "nbformat": 4,
 "nbformat_minor": 5
}
